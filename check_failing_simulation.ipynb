{
 "cells": [
  {
   "cell_type": "markdown",
   "metadata": {},
   "source": [
    "# Check Chris' failing simulation\n",
    "\n",
    "Chris:\n",
    "\n",
    "> alpha-4_MD002Msun_RD20_VF1000_4_STR1_q04_g1  \n",
    "> $T(r)=158.9\\,\\mathrm{K}\\cdot\\left(\\frac{r}{AU}\\right)^{-2/5}$  \n",
    "> `v_frag = lambda N: 100.*10.**smoothstep(d.x/AU-d.x[d.r_snow[N]]/AU,0.25)`  \n",
    "> 1 Msun, 0.2-1000 AU bei 300 Zellen"
   ]
  },
  {
   "cell_type": "code",
   "execution_count": null,
   "metadata": {},
   "outputs": [],
   "source": [
    "import os\n",
    "import shutil\n",
    "import sys\n",
    "\n",
    "import numpy as np\n",
    "import matplotlib.pyplot as plt\n",
    "\n",
    "from dustpy.sim.constants import AU, yr, M_sun, R_sun\n",
    "from dustpy.sim.utils import bindFunction\n",
    "from dustpy.sim import Simulation\n",
    "\n",
    "\n",
    "def is_interactive():\n",
    "    import __main__ as main\n",
    "    return not hasattr(main, '__file__')\n",
    "\n",
    "\n",
    "if is_interactive():\n",
    "    from IPython import get_ipython\n",
    "    get_ipython().magic('matplotlib inline')"
   ]
  },
  {
   "cell_type": "markdown",
   "metadata": {},
   "source": [
    "Create simulation and set parameters"
   ]
  },
  {
   "cell_type": "code",
   "execution_count": null,
   "metadata": {},
   "outputs": [],
   "source": [
    "s = Simulation()\n",
    "\n",
    "s.snapshots = np.logspace(2, np.log10(3e6), 200) * yr\n",
    "\n",
    "s.ini.grid.Nr = 300\n",
    "s.ini.grid.rmin = 0.2 * AU\n",
    "s.ini.grid.rmax = 1000 * AU\n",
    "\n",
    "s.ini.star.M = M_sun\n",
    "s.ini.star.R = 2.5 * R_sun\n",
    "s.ini.star.Teff = 4000.\n",
    "\n",
    "Mdisk = 0.002 * M_sun\n",
    "\n",
    "s.ini.dust.vFrag = 1000.0\n",
    "\n",
    "s.ini.gas.TExp = 2. / 5.\n",
    "s.ini.gas.SigmaR0 = 20 * AU\n",
    "s.ini.gas.SigmaExp = 1\n",
    "s.ini.gas.Sigma0 = Mdisk / (2 * np.pi * s.ini.gas.SigmaR0**2)\n",
    "\n",
    "s.pars.gasAdvection = True\n",
    "s.pars.excludeAttr = ['dust/jac', 'dust/cFrag', 'dust/cStick', 'dust/kFrag', 'dust/kStick', 'dust/vRel']"
   ]
  },
  {
   "cell_type": "code",
   "execution_count": null,
   "metadata": {},
   "outputs": [],
   "source": [
    "from functions import smooth_vfrag # noqa\n",
    "bindFunction(s, 'fragmentationVelocities', smooth_vfrag)"
   ]
  },
  {
   "cell_type": "markdown",
   "metadata": {},
   "source": [
    "Delete output (?) and initialize"
   ]
  },
  {
   "cell_type": "code",
   "execution_count": null,
   "metadata": {},
   "outputs": [],
   "source": [
    "if os.path.isdir(s.pars.outputDir):\n",
    "    yn = ''\n",
    "    if not is_interactive():\n",
    "        yn = 'y'\n",
    "    while yn.lower() not in ['y', 'n']:\n",
    "        yn = input('output directory exists - delete? ')\n",
    "    if yn == 'y':\n",
    "        print('deleting')\n",
    "        shutil.rmtree(s.pars.outputDir, ignore_errors=True)\n",
    "    else:\n",
    "        print('keeping')\n",
    "s.initialize()"
   ]
  },
  {
   "cell_type": "code",
   "execution_count": null,
   "metadata": {},
   "outputs": [],
   "source": [
    "s.evolve()"
   ]
  },
  {
   "cell_type": "markdown",
   "metadata": {},
   "source": [
    "If running as a script: stop here!"
   ]
  },
  {
   "cell_type": "code",
   "execution_count": null,
   "metadata": {},
   "outputs": [],
   "source": [
    "if not is_interactive():\n",
    "    import sys # noqa\n",
    "    sys.exit(0)"
   ]
  },
  {
   "cell_type": "markdown",
   "metadata": {},
   "source": [
    "## Analysis"
   ]
  },
  {
   "cell_type": "code",
   "execution_count": null,
   "metadata": {},
   "outputs": [],
   "source": [
    "mg = np.trapz(2 * np.pi * s.grid.r * s.gas.Sigma, x=s.grid.r) / M_sun * np.exp(1)\n",
    "md = np.trapz(2 * np.pi * s.grid.r * s.dust.Sigma.sum(-1), x=s.grid.r) / M_sun * np.exp(1)"
   ]
  },
  {
   "cell_type": "code",
   "execution_count": null,
   "metadata": {},
   "outputs": [],
   "source": [
    "f, ax = plt.subplots()\n",
    "ax.contourf(s.grid.r / AU, s.dust.a[0, :], np.log10(s.dust.Sigma).T, 30, vmin=-9)\n",
    "ax.set_xscale('log')\n",
    "ax.set_yscale('log')"
   ]
  },
  {
   "cell_type": "code",
   "execution_count": null,
   "metadata": {},
   "outputs": [],
   "source": [
    "from dustpy.plotting import plot # noqa\n",
    "plot('output')"
   ]
  }
 ],
 "metadata": {
  "kernelspec": {
   "display_name": "Python 3",
   "language": "python",
   "name": "python3"
  },
  "language_info": {
   "codemirror_mode": {
    "name": "ipython",
    "version": 3
   },
   "file_extension": ".py",
   "mimetype": "text/x-python",
   "name": "python",
   "nbconvert_exporter": "python",
   "pygments_lexer": "ipython3",
   "version": "3.6.3"
  }
 },
 "nbformat": 4,
 "nbformat_minor": 2
}
